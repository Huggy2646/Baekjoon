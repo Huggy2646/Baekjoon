{
 "cells": [
  {
   "cell_type": "code",
   "execution_count": 26,
   "id": "fe9280d2-ebed-4083-a088-25e3bc10ab7a",
   "metadata": {},
   "outputs": [
    {
     "name": "stdin",
     "output_type": "stream",
     "text": [
      " 3\n",
      " 1\n",
      " 2\n",
      " 3\n"
     ]
    },
    {
     "name": "stdout",
     "output_type": "stream",
     "text": [
      "0\n",
      "1\n"
     ]
    }
   ],
   "source": [
    "n=int(input())\n",
    "arr = list()\n",
    "arr2 = list()\n",
    "arr2 = list()\n",
    "sort = lsit()\n",
    "for i in range(n):\n",
    "    arr.append(int(input()))\n",
    "# arr1 = arr[:len(arr)//2]\n",
    "# arr2 = arr[len(arr)//2:len(arr)]\n",
    "for i in range(len(arr2) if len(arr)>len(arr2) else len(arr)):\n",
    "    "
   ]
  },
  {
   "cell_type": "code",
   "execution_count": 18,
   "id": "5acc76a1-a123-499c-8cbb-f520e60108c9",
   "metadata": {},
   "outputs": [],
   "source": []
  },
  {
   "cell_type": "code",
   "execution_count": null,
   "id": "38248c8c-5ac1-492e-8326-1b8bf81ae136",
   "metadata": {},
   "outputs": [],
   "source": []
  }
 ],
 "metadata": {
  "kernelspec": {
   "display_name": "Python 3 (ipykernel)",
   "language": "python",
   "name": "python3"
  },
  "language_info": {
   "codemirror_mode": {
    "name": "ipython",
    "version": 3
   },
   "file_extension": ".py",
   "mimetype": "text/x-python",
   "name": "python",
   "nbconvert_exporter": "python",
   "pygments_lexer": "ipython3",
   "version": "3.9.7"
  }
 },
 "nbformat": 4,
 "nbformat_minor": 5
}
