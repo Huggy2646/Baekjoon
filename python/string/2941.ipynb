{
 "cells": [
  {
   "cell_type": "code",
   "execution_count": 50,
   "id": "48ff707c-500f-4c97-9e1e-de504ed7e939",
   "metadata": {},
   "outputs": [
    {
     "name": "stdin",
     "output_type": "stream",
     "text": [
      " c=c=\n"
     ]
    },
    {
     "name": "stdout",
     "output_type": "stream",
     "text": [
      "  \n",
      "2\n"
     ]
    }
   ],
   "source": [
    "arr=['c=','c-','dz=','d-','lj','nj','s=','z=']\n",
    "# result=dict()\n",
    "input_str=input()\n",
    "count=0\n",
    "for i in arr:\n",
    "    if input_str.find(i)!=-1:\n",
    "        # count+=input_str.find(i)\n",
    "        input_str=input_str.replace(i,\" \")\n",
    "        # print(input_str)\n",
    "# print()\n",
    "print(input_str)\n",
    "print(len(input_str))"
   ]
  },
  {
   "cell_type": "code",
   "execution_count": 36,
   "id": "e94c6010-0b7b-4764-872c-f589965413fd",
   "metadata": {},
   "outputs": [
    {
     "name": "stdout",
     "output_type": "stream",
     "text": [
      "2\n",
      "Hekko Workd!\n"
     ]
    }
   ],
   "source": [
    "text = \"Hello World!\"\n",
    "x = text.replace(\"l\", \"k\")\n",
    "print(text.find('l'))\n",
    "print(x)"
   ]
  },
  {
   "cell_type": "code",
   "execution_count": null,
   "id": "cc567866-229a-4981-ab42-d991691a56ef",
   "metadata": {},
   "outputs": [],
   "source": []
  },
  {
   "cell_type": "code",
   "execution_count": null,
   "id": "df43e0b4-e09f-4f55-8149-aec48f1a0c5f",
   "metadata": {},
   "outputs": [],
   "source": []
  }
 ],
 "metadata": {
  "kernelspec": {
   "display_name": "Python 3 (ipykernel)",
   "language": "python",
   "name": "python3"
  },
  "language_info": {
   "codemirror_mode": {
    "name": "ipython",
    "version": 3
   },
   "file_extension": ".py",
   "mimetype": "text/x-python",
   "name": "python",
   "nbconvert_exporter": "python",
   "pygments_lexer": "ipython3",
   "version": "3.9.7"
  }
 },
 "nbformat": 4,
 "nbformat_minor": 5
}
